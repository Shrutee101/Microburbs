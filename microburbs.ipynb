{
 "cells": [
  {
   "cell_type": "code",
   "execution_count": 7,
   "id": "7fa82e47",
   "metadata": {},
   "outputs": [
    {
     "data": {
      "text/plain": [
       "{'Westpac MAPE': nan, 'Joe Bloggs MAPE': nan, 'Harry Spent MAPE': nan}"
      ]
     },
     "execution_count": 7,
     "metadata": {},
     "output_type": "execute_result"
    }
   ],
   "source": [
    "import pandas as pd\n",
    "\n",
    "# Loading the data from the CSV file\n",
    "file_path = \"forecast_history.csv\"\n",
    "data = pd.read_csv(file_path)\n",
    "\n",
    "# Cleaning column names by stripping any leading or trailing whitespace\n",
    "data.columns = data.columns.str.strip()\n",
    "\n",
    "# Converting columns to numeric, forcing errors to NaN (use `errors='coerce'` to handle non-numeric values)\n",
    "data['Median house price'] = pd.to_numeric(data['Median house price'], errors='coerce')\n",
    "data['Westpac: 4 year forecast'] = pd.to_numeric(data['Westpac: 4 year forecast'], errors='coerce')\n",
    "data['Joe Bloggs: 2 year forecast'] = pd.to_numeric(data['Joe Bloggs: 2 year forecast'], errors='coerce')\n",
    "data['Harry Spent: 5 year forecast'] = pd.to_numeric(data['Harry Spent: 5 year forecast'], errors='coerce')\n",
    "\n",
    "# Calculating the percentage errors for each forecaster\n",
    "data['Westpac_Error'] = ((data['Westpac: 4 year forecast'] / 100 * data['Median house price'].shift(-4)) - data['Median house price'].shift(-4)) / data['Median house price'].shift(-4) * 100\n",
    "data['Joe_Bloggs_Error'] = ((data['Joe Bloggs: 2 year forecast'] / 100 * data['Median house price'].shift(-2)) - data['Median house price'].shift(-2)) / data['Median house price'].shift(-2) * 100\n",
    "data['Harry_Spent_Error'] = ((data['Harry Spent: 5 year forecast'] / 100 * data['Median house price'].shift(-5)) - data['Median house price'].shift(-5)) / data['Median house price'].shift(-5) * 100\n",
    "\n",
    "# Dropping rows where error cannot be calculated (due to shift causing NaNs)\n",
    "data.dropna(inplace=True)\n",
    "\n",
    "# Calculating the mean absolute percentage error (MAPE) for each forecaster\n",
    "westpac_mape = data['Westpac_Error'].abs().mean()\n",
    "joe_bloggs_mape = data['Joe_Bloggs_Error'].abs().mean()\n",
    "harry_spent_mape = data['Harry_Spent_Error'].abs().mean()\n",
    "\n",
    "# Summary of results\n",
    "summary = {\n",
    "    \"Westpac MAPE\": westpac_mape,\n",
    "    \"Joe Bloggs MAPE\": joe_bloggs_mape,\n",
    "    \"Harry Spent MAPE\": harry_spent_mape\n",
    "}\n",
    "\n",
    "summary\n"
   ]
  },
  {
   "cell_type": "code",
   "execution_count": null,
   "id": "3c4a991e",
   "metadata": {},
   "outputs": [],
   "source": []
  }
 ],
 "metadata": {
  "kernelspec": {
   "display_name": "Python 3",
   "language": "python",
   "name": "python3"
  },
  "language_info": {
   "codemirror_mode": {
    "name": "ipython",
    "version": 3
   },
   "file_extension": ".py",
   "mimetype": "text/x-python",
   "name": "python",
   "nbconvert_exporter": "python",
   "pygments_lexer": "ipython3",
   "version": "3.8.8"
  }
 },
 "nbformat": 4,
 "nbformat_minor": 5
}

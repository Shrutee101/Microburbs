{
 "cells": [
  {
   "cell_type": "code",
   "execution_count": 11,
   "id": "2e178c85",
   "metadata": {},
   "outputs": [
    {
     "name": "stdout",
     "output_type": "stream",
     "text": [
      "Requirement already satisfied: matplotlib in c:\\users\\shrutee\\anaconda3\\lib\\site-packages (3.3.4)\n",
      "Requirement already satisfied: networkx in c:\\users\\shrutee\\anaconda3\\lib\\site-packages (2.5)\n",
      "Collecting geopandas\n",
      "  Downloading geopandas-0.13.2-py3-none-any.whl (1.1 MB)\n",
      "Collecting shapely\n",
      "  Downloading shapely-2.0.6-cp38-cp38-win_amd64.whl (1.5 MB)\n",
      "Collecting pyproj>=3.0.1\n",
      "  Downloading pyproj-3.5.0-cp38-cp38-win_amd64.whl (5.1 MB)\n",
      "Collecting fiona>=1.8.19\n",
      "  Downloading fiona-1.9.6-cp38-cp38-win_amd64.whl (22.9 MB)\n",
      "Requirement already satisfied: packaging in c:\\users\\shrutee\\anaconda3\\lib\\site-packages (from geopandas) (20.9)\n",
      "Requirement already satisfied: pandas>=1.1.0 in c:\\users\\shrutee\\anaconda3\\lib\\site-packages (from geopandas) (1.2.4)\n",
      "Requirement already satisfied: numpy<3,>=1.14 in c:\\users\\shrutee\\anaconda3\\lib\\site-packages (from shapely) (1.18.5)\n",
      "Requirement already satisfied: importlib-metadata in c:\\users\\shrutee\\anaconda3\\lib\\site-packages (from fiona>=1.8.19->geopandas) (3.10.0)\n",
      "Collecting cligj>=0.5\n",
      "  Downloading cligj-0.7.2-py3-none-any.whl (7.1 kB)\n",
      "Requirement already satisfied: certifi in c:\\users\\shrutee\\anaconda3\\lib\\site-packages (from fiona>=1.8.19->geopandas) (2024.7.4)\n",
      "Collecting click-plugins>=1.0\n",
      "  Downloading click_plugins-1.1.1-py2.py3-none-any.whl (7.5 kB)\n",
      "Requirement already satisfied: attrs>=19.2.0 in c:\\users\\shrutee\\anaconda3\\lib\\site-packages (from fiona>=1.8.19->geopandas) (20.3.0)\n",
      "Requirement already satisfied: six in c:\\users\\shrutee\\anaconda3\\lib\\site-packages (from fiona>=1.8.19->geopandas) (1.15.0)\n",
      "Collecting click~=8.0\n",
      "  Downloading click-8.1.7-py3-none-any.whl (97 kB)\n",
      "Requirement already satisfied: colorama in c:\\users\\shrutee\\anaconda3\\lib\\site-packages (from click~=8.0->fiona>=1.8.19->geopandas) (0.4.4)\n",
      "Requirement already satisfied: pytz>=2017.3 in c:\\users\\shrutee\\anaconda3\\lib\\site-packages (from pandas>=1.1.0->geopandas) (2021.1)\n",
      "Requirement already satisfied: python-dateutil>=2.7.3 in c:\\users\\shrutee\\anaconda3\\lib\\site-packages (from pandas>=1.1.0->geopandas) (2.8.1)\n",
      "Requirement already satisfied: kiwisolver>=1.0.1 in c:\\users\\shrutee\\anaconda3\\lib\\site-packages (from matplotlib) (1.3.1)\n",
      "Requirement already satisfied: cycler>=0.10 in c:\\users\\shrutee\\anaconda3\\lib\\site-packages (from matplotlib) (0.10.0)\n",
      "Requirement already satisfied: pyparsing!=2.0.4,!=2.1.2,!=2.1.6,>=2.0.3 in c:\\users\\shrutee\\anaconda3\\lib\\site-packages (from matplotlib) (2.4.7)\n",
      "Requirement already satisfied: pillow>=6.2.0 in c:\\users\\shrutee\\anaconda3\\lib\\site-packages (from matplotlib) (10.2.0)\n",
      "Requirement already satisfied: decorator>=4.3.0 in c:\\users\\shrutee\\anaconda3\\lib\\site-packages (from networkx) (5.0.6)\n",
      "Requirement already satisfied: zipp>=0.5 in c:\\users\\shrutee\\anaconda3\\lib\\site-packages (from importlib-metadata->fiona>=1.8.19->geopandas) (3.4.1)\n",
      "Installing collected packages: click, cligj, click-plugins, shapely, pyproj, fiona, geopandas\n",
      "  Attempting uninstall: click\n",
      "    Found existing installation: click 7.1.2\n",
      "    Uninstalling click-7.1.2:\n",
      "      Successfully uninstalled click-7.1.2\n",
      "Successfully installed click-8.1.7 click-plugins-1.1.1 cligj-0.7.2 fiona-1.9.6 geopandas-0.13.2 pyproj-3.5.0 shapely-2.0.6\n",
      "Note: you may need to restart the kernel to use updated packages.\n"
     ]
    }
   ],
   "source": [
    "pip install matplotlib networkx geopandas shapely\n"
   ]
  },
  {
   "cell_type": "code",
   "execution_count": 12,
   "id": "4691858f",
   "metadata": {},
   "outputs": [
    {
     "data": {
      "image/png": "[encoded data removed]",
      "text/plain": [
       "<Figure size 720x576 with 1 Axes>"
      ]
     },
     "metadata": {},
     "output_type": "display_data"
    }
   ],
   "source": [
    "import matplotlib.pyplot as plt\n",
    "import networkx as nx\n",
    "import geopandas as gpd\n",
    "from shapely.geometry import Point\n",
    "import numpy as np\n",
    "\n",
    "coordinates = {\n",
    "    'Location 1': (-37.810, 144.950),\n",
    "    'Location 2': (-37.820, 144.960),\n",
    "    'Location 3': (-37.830, 144.970),\n",
    "    'Location 4': (-37.840, 144.980),\n",
    "    'Location 5': (-37.850, 144.990),\n",
    "    'Location 6': (-37.860, 145.000),\n",
    "    'Location 7': (-37.870, 145.010),\n",
    "    'Location 8': (-37.880, 145.020),\n",
    "    'Location 9': (-37.890, 145.030),\n",
    "    'Location 10': (-37.900, 145.040)\n",
    "}\n",
    "\n",
    "gdf = gpd.GeoDataFrame({\n",
    "    'Location': list(coordinates.keys()),\n",
    "    'geometry': [Point(lon, lat) for lat, lon in coordinates.values()]\n",
    "})\n",
    "\n",
    "G = nx.Graph()\n",
    "\n",
    "for location, (lat, lon) in coordinates.items():\n",
    "    G.add_node(location, pos=(lon, lat))\n",
    "\n",
    "for loc1 in coordinates:\n",
    "    for loc2 in coordinates:\n",
    "        if loc1 != loc2:\n",
    "            G.add_edge(loc1, loc2)\n",
    "\n",
    "pos = nx.get_node_attributes(G, 'pos')\n",
    "\n",
    "fig, ax = plt.subplots(figsize=(10, 8))\n",
    "gdf.plot(ax=ax, color='lightgrey')\n",
    "\n",
    "nx.draw_networkx_nodes(G, pos, node_size=100, node_color='blue', ax=ax)\n",
    "nx.draw_networkx_edges(G, pos, ax=ax, edge_color='blue', alpha=0.5)\n",
    "nx.draw_networkx_labels(G, pos, ax=ax, font_size=8, font_color='black')\n",
    "\n",
    "edge_labels = {(loc1, loc2): f\"{np.round(nx.shortest_path_length(G, loc1, loc2, weight='weight'), 2)} km\"\n",
    "               for loc1, loc2 in G.edges()}\n",
    "nx.draw_networkx_edge_labels(G, pos, edge_labels=edge_labels, font_size=6, ax=ax)\n",
    "\n",
    "plt.title(\"Simplified Map with Locations and Connections\")\n",
    "plt.show()\n"
   ]
  },
  {
   "cell_type": "code",
   "execution_count": null,
   "id": "67535d25",
   "metadata": {},
   "outputs": [],
   "source": []
  }
 ],
 "metadata": {
  "kernelspec": {
   "display_name": "Python 3",
   "language": "python",
   "name": "python3"
  },
  "language_info": {
   "codemirror_mode": {
    "name": "ipython",
    "version": 3
   },
   "file_extension": ".py",
   "mimetype": "text/x-python",
   "name": "python",
   "nbconvert_exporter": "python",
   "pygments_lexer": "ipython3",
   "version": "3.8.8"
  }
 },
 "nbformat": 4,
 "nbformat_minor": 5
}
